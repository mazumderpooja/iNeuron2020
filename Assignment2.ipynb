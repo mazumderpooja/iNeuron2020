{
  "nbformat": 4,
  "nbformat_minor": 0,
  "metadata": {
    "colab": {
      "name": "Assignment2.ipynb",
      "provenance": [],
      "collapsed_sections": [],
      "authorship_tag": "ABX9TyM7WxG48nLfmvGKgrEEnIMz",
      "include_colab_link": true
    },
    "kernelspec": {
      "name": "python3",
      "display_name": "Python 3"
    }
  },
  "cells": [
    {
      "cell_type": "markdown",
      "metadata": {
        "id": "view-in-github",
        "colab_type": "text"
      },
      "source": [
        "<a href=\"https://colab.research.google.com/github/mazumderpooja/iNeuron2020/blob/master/Assignment2.ipynb\" target=\"_parent\"><img src=\"https://colab.research.google.com/assets/colab-badge.svg\" alt=\"Open In Colab\"/></a>"
      ]
    },
    {
      "cell_type": "code",
      "metadata": {
        "id": "up2RlkeFb_8T",
        "colab_type": "code",
        "colab": {
          "base_uri": "https://localhost:8080/",
          "height": 176
        },
        "outputId": "4c88fc09-5b92-46f7-ac2d-20eed044be81"
      },
      "source": [
        "for i in range (0,5):\n",
        "  for j in range (0, i+1):\n",
        "    print (\"*\" , end =\" \")\n",
        "  print('\\r') \n",
        "for i in range (4,0,-1):\n",
        "  for j in range (0,i):\n",
        "    print(\"*\", end = \" \")\n",
        "  print('\\r')"
      ],
      "execution_count": 8,
      "outputs": [
        {
          "output_type": "stream",
          "text": [
            "* \r\n",
            "* * \r\n",
            "* * * \r\n",
            "* * * * \r\n",
            "* * * * * \r\n",
            "* * * * \r\n",
            "* * * \r\n",
            "* * \r\n",
            "* \r\n"
          ],
          "name": "stdout"
        }
      ]
    },
    {
      "cell_type": "code",
      "metadata": {
        "id": "wJxG-CD1kr5a",
        "colab_type": "code",
        "colab": {
          "base_uri": "https://localhost:8080/",
          "height": 52
        },
        "outputId": "fd41f508-fe31-4c49-cfeb-d1f70884da1d"
      },
      "source": [
        "x= input (\"Please enter a word:\")\n",
        "z = x[::-1] \n",
        "print(\"Output: \" +z)"
      ],
      "execution_count": 13,
      "outputs": [
        {
          "output_type": "stream",
          "text": [
            "Please enter a word:Yo\n",
            "output: oY\n"
          ],
          "name": "stdout"
        }
      ]
    }
  ]
}